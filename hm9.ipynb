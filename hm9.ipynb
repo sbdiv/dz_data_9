{
  "cells": [
    {
      "cell_type": "code",
      "execution_count": 1,
      "metadata": {
        "id": "e0bMHmhVZjWA"
      },
      "outputs": [],
      "source": [
        "import numpy as np\n",
        "import tensorflow as tf\n",
        "import matplotlib.pyplot as plt\n"
      ]
    },
    {
      "cell_type": "markdown",
      "metadata": {
        "id": "PAyI-ljWbV91"
      },
      "source": [
        "# Завантажуємо датасет"
      ]
    },
    {
      "cell_type": "code",
      "execution_count": 2,
      "metadata": {
        "id": "iCm7Z-IwbMHp"
      },
      "outputs": [
        {
          "name": "stdout",
          "output_type": "stream",
          "text": [
            "Downloading data from https://storage.googleapis.com/tensorflow/tf-keras-datasets/train-labels-idx1-ubyte.gz\n",
            "\u001b[1m29515/29515\u001b[0m \u001b[32m━━━━━━━━━━━━━━━━━━━━\u001b[0m\u001b[37m\u001b[0m \u001b[1m0s\u001b[0m 3us/step\n",
            "Downloading data from https://storage.googleapis.com/tensorflow/tf-keras-datasets/train-images-idx3-ubyte.gz\n",
            "\u001b[1m26421880/26421880\u001b[0m \u001b[32m━━━━━━━━━━━━━━━━━━━━\u001b[0m\u001b[37m\u001b[0m \u001b[1m9s\u001b[0m 0us/step\n",
            "Downloading data from https://storage.googleapis.com/tensorflow/tf-keras-datasets/t10k-labels-idx1-ubyte.gz\n",
            "\u001b[1m5148/5148\u001b[0m \u001b[32m━━━━━━━━━━━━━━━━━━━━\u001b[0m\u001b[37m\u001b[0m \u001b[1m0s\u001b[0m 0us/step\n",
            "Downloading data from https://storage.googleapis.com/tensorflow/tf-keras-datasets/t10k-images-idx3-ubyte.gz\n",
            "\u001b[1m4422102/4422102\u001b[0m \u001b[32m━━━━━━━━━━━━━━━━━━━━\u001b[0m\u001b[37m\u001b[0m \u001b[1m2s\u001b[0m 0us/step\n"
          ]
        }
      ],
      "source": [
        "from keras.datasets import fashion_mnist\n",
        "\n",
        "(x_train, y_train), (x_test, y_test) = fashion_mnist.load_data()"
      ]
    },
    {
      "cell_type": "code",
      "execution_count": 3,
      "metadata": {
        "id": "Lg093p0_enB2"
      },
      "outputs": [],
      "source": [
        "N=30000"
      ]
    },
    {
      "cell_type": "markdown",
      "metadata": {
        "id": "xtTu1yIZeBlI"
      },
      "source": [
        "Нормалізація даних"
      ]
    },
    {
      "cell_type": "code",
      "execution_count": 4,
      "metadata": {
        "id": "-beSdKj4bdZo"
      },
      "outputs": [],
      "source": [
        "x_train = x_train[:N] / 255\n",
        "x_test = x_test[:N] / 255\n",
        "y_train = y_train[:N]\n",
        "y_test = y_test[:N]"
      ]
    },
    {
      "cell_type": "markdown",
      "metadata": {
        "id": "9kcqKFTZ_okP"
      },
      "source": [
        "One-hot encoding "
      ]
    },
    {
      "cell_type": "code",
      "execution_count": 5,
      "metadata": {
        "id": "r93WjfUs_HZh"
      },
      "outputs": [
        {
          "ename": "NameError",
          "evalue": "name 'to_categorical' is not defined",
          "output_type": "error",
          "traceback": [
            "\u001b[1;31m---------------------------------------------------------------------------\u001b[0m",
            "\u001b[1;31mNameError\u001b[0m                                 Traceback (most recent call last)",
            "Cell \u001b[1;32mIn[5], line 2\u001b[0m\n\u001b[0;32m      1\u001b[0m \u001b[38;5;66;03m# One-hot encoding для міток\u001b[39;00m\n\u001b[1;32m----> 2\u001b[0m y_train \u001b[38;5;241m=\u001b[39m \u001b[43mto_categorical\u001b[49m(y_train, \u001b[38;5;241m10\u001b[39m)\n\u001b[0;32m      3\u001b[0m y_test \u001b[38;5;241m=\u001b[39m to_categorical(y_test, \u001b[38;5;241m10\u001b[39m)\n",
            "\u001b[1;31mNameError\u001b[0m: name 'to_categorical' is not defined"
          ]
        },
        {
          "ename": "",
          "evalue": "",
          "output_type": "error",
          "traceback": [
            "\u001b[1;31mThe Kernel crashed while executing code in the current cell or a previous cell. \n",
            "\u001b[1;31mPlease review the code in the cell(s) to identify a possible cause of the failure. \n",
            "\u001b[1;31mClick <a href='https://aka.ms/vscodeJupyterKernelCrash'>here</a> for more info. \n",
            "\u001b[1;31mView Jupyter <a href='command:jupyter.viewOutput'>log</a> for further details."
          ]
        }
      ],
      "source": [
        "y_train = to_categorical(y_train, 10)\n",
        "y_test = to_categorical(y_test, 10)"
      ]
    },
    {
      "cell_type": "code",
      "execution_count": null,
      "metadata": {
        "colab": {
          "base_uri": "https://localhost:8080/"
        },
        "id": "DwxU_HyxeOm8",
        "outputId": "5cd14831-38cc-4ee5-d7c7-b42642c51a7c"
      },
      "outputs": [
        {
          "data": {
            "text/plain": [
              "((30000, 28, 28), (30000, 10), (10000, 28, 28), (10000, 10))"
            ]
          },
          "execution_count": 73,
          "metadata": {},
          "output_type": "execute_result"
        }
      ],
      "source": [
        "x_train.shape, y_train.shape, x_test.shape, y_test.shape"
      ]
    },
    {
      "cell_type": "markdown",
      "metadata": {
        "id": "rKK9-Dc2A6xw"
      },
      "source": [
        "# Функція візуалізації"
      ]
    },
    {
      "cell_type": "code",
      "execution_count": null,
      "metadata": {
        "id": "wAmufXvqA4YQ"
      },
      "outputs": [],
      "source": [
        "def plot_training_history(history, title):\n",
        "    plt.figure(figsize=(12, 4))\n",
        "\n",
        "    plt.subplot(1, 2, 1)\n",
        "    plt.plot(history.history['accuracy'], label='Train Accuracy')\n",
        "    plt.plot(history.history['val_accuracy'], label='Val Accuracy')\n",
        "    plt.title('Accuracy')\n",
        "    plt.xlabel('Epochs')\n",
        "    plt.ylabel('Accuracy')\n",
        "    plt.legend()\n",
        "    plt.grid(True)\n",
        "\n",
        "    plt.subplot(1, 2, 2)\n",
        "    plt.plot(history.history['loss'], label='Train Loss')\n",
        "    plt.plot(history.history['val_loss'], label='Val Loss')\n",
        "    plt.title('Loss')\n",
        "    plt.xlabel('Epochs')\n",
        "    plt.ylabel('Loss')\n",
        "    plt.legend()\n",
        "    plt.grid(True)\n",
        "\n",
        "    plt.suptitle(title)\n",
        "    plt.show()"
      ]
    },
    {
      "cell_type": "code",
      "execution_count": null,
      "metadata": {
        "id": "zTRjdhPpGXw0"
      },
      "outputs": [],
      "source": [
        "from tensorflow.keras.models import Sequential\n",
        "from tensorflow.keras.layers import Dense, Flatten, Dropout\n",
        "from tensorflow.keras.utils import to_categorical\n",
        "from kerastuner.tuners import RandomSearch\n",
        "from tensorflow.keras import regularizers"
      ]
    },
    {
      "cell_type": "code",
      "execution_count": null,
      "metadata": {
        "id": "QjCfaU9pLe8O"
      },
      "outputs": [],
      "source": [
        "def build_model(hp):\n",
        "    model = Sequential()\n",
        "    model.add(Flatten(input_shape=(28, 28)))\n",
        "    for i in range(hp.Int('num_layers', 2, 4)):\n",
        "        model.add(Dense(units=hp.Int('units_' + str(i),\n",
        "                                     min_value=64,\n",
        "                                     max_value=512,\n",
        "                                     step=64),\n",
        "                        activation=hp.Choice('activation_' + str(i),\n",
        "                                             values=['relu', 'tanh', 'linear', 'elu', 'swish', 'softplus']))) \n",
        "        model.add(Dropout(rate=hp.Float('dropout_' + str(i),\n",
        "                                        min_value=0.1,\n",
        "                                        max_value=0.5,\n",
        "                                        step=0.1)))\n",
        "    model.add(Dense(10, activation='softmax'))\n",
        "\n",
        "    model.compile(\n",
        "        optimizer=hp.Choice('optimizer',\n",
        "                            values=['adam', 'adamax', 'nadam', 'rmsprop', 'sgd']),\n",
        "        loss='categorical_crossentropy',\n",
        "        metrics=['accuracy'])\n",
        "\n",
        "    return model\n",
        "\n"
      ]
    },
    {
      "cell_type": "markdown",
      "metadata": {
        "id": "MpfmG8VSHLUg"
      },
      "source": [
        "Використаємо Keras Tuner для автоматичного пошуку найкращих гіперпараметрів моделі нейронної мережі."
      ]
    },
    {
      "cell_type": "code",
      "execution_count": null,
      "metadata": {
        "colab": {
          "base_uri": "https://localhost:8080/"
        },
        "id": "faARTJHlGwRP",
        "outputId": "69a8d587-b525-4532-f207-876d0b480960"
      },
      "outputs": [
        {
          "name": "stdout",
          "output_type": "stream",
          "text": [
            "Trial 5 Complete [00h 03m 02s]\n",
            "val_accuracy: 0.8871666789054871\n",
            "\n",
            "Best val_accuracy So Far: 0.8881666660308838\n",
            "Total elapsed time: 00h 17m 44s\n",
            "Results summary\n",
            "Results in my_dir/fashion_mnist8\n",
            "Showing 10 best trials\n",
            "Objective(name=\"val_accuracy\", direction=\"max\")\n",
            "\n",
            "Trial 2 summary\n",
            "Hyperparameters:\n",
            "num_layers: 4\n",
            "units_0: 448\n",
            "activation_0: softplus\n",
            "dropout_0: 0.2\n",
            "units_1: 192\n",
            "activation_1: swish\n",
            "dropout_1: 0.2\n",
            "optimizer: nadam\n",
            "units_2: 192\n",
            "activation_2: linear\n",
            "dropout_2: 0.1\n",
            "units_3: 384\n",
            "activation_3: relu\n",
            "dropout_3: 0.1\n",
            "Score: 0.8881666660308838\n",
            "\n",
            "Trial 4 summary\n",
            "Hyperparameters:\n",
            "num_layers: 3\n",
            "units_0: 384\n",
            "activation_0: softplus\n",
            "dropout_0: 0.1\n",
            "units_1: 64\n",
            "activation_1: linear\n",
            "dropout_1: 0.30000000000000004\n",
            "optimizer: adam\n",
            "units_2: 192\n",
            "activation_2: relu\n",
            "dropout_2: 0.2\n",
            "units_3: 256\n",
            "activation_3: relu\n",
            "dropout_3: 0.2\n",
            "Score: 0.8871666789054871\n",
            "\n",
            "Trial 0 summary\n",
            "Hyperparameters:\n",
            "num_layers: 4\n",
            "units_0: 256\n",
            "activation_0: relu\n",
            "dropout_0: 0.4\n",
            "units_1: 384\n",
            "activation_1: tanh\n",
            "dropout_1: 0.30000000000000004\n",
            "optimizer: sgd\n",
            "units_2: 64\n",
            "activation_2: relu\n",
            "dropout_2: 0.1\n",
            "units_3: 64\n",
            "activation_3: relu\n",
            "dropout_3: 0.1\n",
            "Score: 0.8744999766349792\n",
            "\n",
            "Trial 3 summary\n",
            "Hyperparameters:\n",
            "num_layers: 4\n",
            "units_0: 128\n",
            "activation_0: tanh\n",
            "dropout_0: 0.1\n",
            "units_1: 384\n",
            "activation_1: tanh\n",
            "dropout_1: 0.4\n",
            "optimizer: sgd\n",
            "units_2: 448\n",
            "activation_2: softplus\n",
            "dropout_2: 0.2\n",
            "units_3: 384\n",
            "activation_3: relu\n",
            "dropout_3: 0.1\n",
            "Score: 0.8611666560173035\n",
            "\n",
            "Trial 1 summary\n",
            "Hyperparameters:\n",
            "num_layers: 3\n",
            "units_0: 256\n",
            "activation_0: linear\n",
            "dropout_0: 0.4\n",
            "units_1: 192\n",
            "activation_1: elu\n",
            "dropout_1: 0.4\n",
            "optimizer: sgd\n",
            "units_2: 128\n",
            "activation_2: linear\n",
            "dropout_2: 0.4\n",
            "units_3: 320\n",
            "activation_3: softplus\n",
            "dropout_3: 0.2\n",
            "Score: 0.8544999957084656\n",
            "Model: \"sequential\"\n",
            "_________________________________________________________________\n",
            " Layer (type)                Output Shape              Param #   \n",
            "=================================================================\n",
            " flatten (Flatten)           (None, 784)               0         \n",
            "                                                                 \n",
            " dense (Dense)               (None, 448)               351680    \n",
            "                                                                 \n",
            " dropout (Dropout)           (None, 448)               0         \n",
            "                                                                 \n",
            " dense_1 (Dense)             (None, 192)               86208     \n",
            "                                                                 \n",
            " dropout_1 (Dropout)         (None, 192)               0         \n",
            "                                                                 \n",
            " dense_2 (Dense)             (None, 192)               37056     \n",
            "                                                                 \n",
            " dropout_2 (Dropout)         (None, 192)               0         \n",
            "                                                                 \n",
            " dense_3 (Dense)             (None, 384)               74112     \n",
            "                                                                 \n",
            " dropout_3 (Dropout)         (None, 384)               0         \n",
            "                                                                 \n",
            " dense_4 (Dense)             (None, 10)                3850      \n",
            "                                                                 \n",
            "=================================================================\n",
            "Total params: 552906 (2.11 MB)\n",
            "Trainable params: 552906 (2.11 MB)\n",
            "Non-trainable params: 0 (0.00 Byte)\n",
            "_________________________________________________________________\n"
          ]
        }
      ],
      "source": [
        "tuner = RandomSearch(\n",
        "    build_model,\n",
        "    objective='val_accuracy',\n",
        "    max_trials=5,\n",
        "    executions_per_trial=1,\n",
        "    directory='my_dir',\n",
        "    project_name='fashion_mnist8')\n",
        "tuner.search_space_summary()\n",
        "\n",
        "tuner.search(x_train, y_train,\n",
        "             epochs=20,\n",
        "             validation_split=0.2)\n",
        "\n",
        "tuner.results_summary()\n",
        "\n",
        "best_model = tuner.get_best_models(num_models=1)[0]\n",
        "best_model.summary()\n",
        "\n"
      ]
    },
    {
      "cell_type": "code",
      "execution_count": null,
      "metadata": {
        "colab": {
          "base_uri": "https://localhost:8080/"
        },
        "id": "--XPrNTBSvv5",
        "outputId": "b4e8a4fd-b2e3-42fa-cbf0-8125320b6460"
      },
      "outputs": [
        {
          "name": "stdout",
          "output_type": "stream",
          "text": [
            "Epoch 1/20\n",
            "750/750 [==============================] - 16s 19ms/step - loss: 0.2356 - accuracy: 0.9109 - val_loss: 0.3500 - val_accuracy: 0.8877\n",
            "Epoch 2/20\n",
            "750/750 [==============================] - 14s 19ms/step - loss: 0.2375 - accuracy: 0.9095 - val_loss: 0.3524 - val_accuracy: 0.8832\n",
            "Epoch 3/20\n",
            "750/750 [==============================] - 14s 19ms/step - loss: 0.2422 - accuracy: 0.9108 - val_loss: 0.3530 - val_accuracy: 0.8873\n",
            "Epoch 4/20\n",
            "750/750 [==============================] - 14s 19ms/step - loss: 0.2287 - accuracy: 0.9127 - val_loss: 0.3317 - val_accuracy: 0.8907\n",
            "Epoch 5/20\n",
            "750/750 [==============================] - 14s 19ms/step - loss: 0.2222 - accuracy: 0.9166 - val_loss: 0.3476 - val_accuracy: 0.8907\n",
            "Epoch 6/20\n",
            "750/750 [==============================] - 16s 21ms/step - loss: 0.2251 - accuracy: 0.9196 - val_loss: 0.3719 - val_accuracy: 0.8875\n",
            "Epoch 7/20\n",
            "750/750 [==============================] - 14s 18ms/step - loss: 0.2129 - accuracy: 0.9208 - val_loss: 0.3885 - val_accuracy: 0.8887\n",
            "Epoch 8/20\n",
            "750/750 [==============================] - 16s 21ms/step - loss: 0.2114 - accuracy: 0.9211 - val_loss: 0.3697 - val_accuracy: 0.8848\n",
            "Epoch 9/20\n",
            "750/750 [==============================] - 15s 19ms/step - loss: 0.2082 - accuracy: 0.9222 - val_loss: 0.3903 - val_accuracy: 0.8860\n",
            "Epoch 10/20\n",
            "750/750 [==============================] - 14s 18ms/step - loss: 0.2049 - accuracy: 0.9243 - val_loss: 0.3963 - val_accuracy: 0.8862\n",
            "Epoch 11/20\n",
            "750/750 [==============================] - 14s 19ms/step - loss: 0.1988 - accuracy: 0.9244 - val_loss: 0.3934 - val_accuracy: 0.8862\n",
            "Epoch 12/20\n",
            "750/750 [==============================] - 14s 19ms/step - loss: 0.1974 - accuracy: 0.9258 - val_loss: 0.4062 - val_accuracy: 0.8798\n",
            "Epoch 13/20\n",
            "750/750 [==============================] - 14s 19ms/step - loss: 0.1950 - accuracy: 0.9275 - val_loss: 0.3676 - val_accuracy: 0.8917\n",
            "Epoch 14/20\n",
            "750/750 [==============================] - 15s 20ms/step - loss: 0.1866 - accuracy: 0.9291 - val_loss: 0.3978 - val_accuracy: 0.8877\n",
            "Epoch 15/20\n",
            "750/750 [==============================] - 16s 22ms/step - loss: 0.1919 - accuracy: 0.9281 - val_loss: 0.3563 - val_accuracy: 0.8960\n",
            "Epoch 16/20\n",
            "750/750 [==============================] - 14s 19ms/step - loss: 0.1892 - accuracy: 0.9306 - val_loss: 0.5138 - val_accuracy: 0.8808\n",
            "Epoch 17/20\n",
            "750/750 [==============================] - 15s 20ms/step - loss: 0.1849 - accuracy: 0.9323 - val_loss: 0.3591 - val_accuracy: 0.8868\n",
            "Epoch 18/20\n",
            "750/750 [==============================] - 15s 20ms/step - loss: 0.1788 - accuracy: 0.9338 - val_loss: 0.4274 - val_accuracy: 0.8903\n",
            "Epoch 19/20\n",
            "750/750 [==============================] - 14s 18ms/step - loss: 0.1781 - accuracy: 0.9333 - val_loss: 0.4158 - val_accuracy: 0.8920\n",
            "Epoch 20/20\n",
            "750/750 [==============================] - 14s 18ms/step - loss: 0.1719 - accuracy: 0.9365 - val_loss: 0.4533 - val_accuracy: 0.8857\n"
          ]
        }
      ],
      "source": [
        "best_history = best_model.fit(x_train, y_train,\n",
        "                              epochs=20,\n",
        "                              batch_size=32,\n",
        "                              validation_split=0.2,\n",
        "                              verbose=1)"
      ]
    },
    {
      "cell_type": "code",
      "execution_count": null,
      "metadata": {
        "colab": {
          "base_uri": "https://localhost:8080/",
          "height": 428
        },
        "id": "c_JXXoHzJMa4",
        "outputId": "54d38bb8-5318-42e8-c40f-de84146b4d2b"
      },
      "outputs": [
        {
          "data": {
            "image/png": "[encoded data removed]",
            "text/plain": [
              "<Figure size 1200x400 with 2 Axes>"
            ]
          },
          "metadata": {},
          "output_type": "display_data"
        }
      ],
      "source": [
        "plot_training_history(best_history, title='Best Model Training History')"
      ]
    },
    {
      "cell_type": "code",
      "execution_count": null,
      "metadata": {
        "colab": {
          "base_uri": "https://localhost:8080/"
        },
        "id": "pB1IUMtsHixi",
        "outputId": "ad9f4364-996b-45cf-f659-337428d53449"
      },
      "outputs": [
        {
          "name": "stdout",
          "output_type": "stream",
          "text": [
            "Best model test accuracy: 0.8772\n"
          ]
        }
      ],
      "source": [
        "test_loss, test_acc = best_model.evaluate(x_test, y_test, verbose=0)\n",
        "print(f'Best model test accuracy: {test_acc:.4f}')"
      ]
    }
  ],
  "metadata": {
    "colab": {
      "authorship_tag": "ABX9TyOFBylaijFUSlWIsbAr0k5G",
      "include_colab_link": true,
      "provenance": []
    },
    "kernelspec": {
      "display_name": "Python 3",
      "name": "python3"
    },
    "language_info": {
      "codemirror_mode": {
        "name": "ipython",
        "version": 3
      },
      "file_extension": ".py",
      "mimetype": "text/x-python",
      "name": "python",
      "nbconvert_exporter": "python",
      "pygments_lexer": "ipython3",
      "version": "3.11.9"
    }
  },
  "nbformat": 4,
  "nbformat_minor": 0
}
